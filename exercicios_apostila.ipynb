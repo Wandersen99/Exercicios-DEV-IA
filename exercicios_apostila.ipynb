{
 "cells": [
  {
   "cell_type": "code",
   "execution_count": null,
   "metadata": {},
   "outputs": [
    {
     "data": {
      "text/plain": [
       "'Hello World!'"
      ]
     },
     "execution_count": 4,
     "metadata": {},
     "output_type": "execute_result"
    }
   ],
   "source": [
    "# Exercício 1.1 - Hello World!\n",
    "# Entrada: este problema não possui nenhuma entrada.\n",
    "# Saída: você deve imprimir a mensagem \"Hello World!\" e, em seguida, o final de linha.\n",
    "\n",
    "def saudacao():\n",
    "    return \"Hello World!\"\n",
    "\n",
    "\n",
    "saudacao()"
   ]
  },
  {
   "cell_type": "code",
   "execution_count": null,
   "metadata": {},
   "outputs": [
    {
     "name": "stdout",
     "output_type": "stream",
     "text": [
      "X = 19\n"
     ]
    }
   ],
   "source": [
    "# Exercício 1.2 - Extremamente básico\n",
    "# Entrada: a entrada contém 2 valores inteiros\n",
    "# Saída: Imprima a mensagem \"X = \" (letra maiúscula) seguido pelo valor da variável da X e pelo final de linha.\n",
    "\n",
    "def soma():\n",
    "    a = int(input(\"Digite o primeiro valor: \"))\n",
    "    b = int(input(\"Digite o segundo valor: \"))\n",
    "    soma = a + b\n",
    "    return soma\n",
    "\n",
    "\n",
    "print(f'X = {soma()}')"
   ]
  },
  {
   "cell_type": "code",
   "execution_count": null,
   "metadata": {},
   "outputs": [
    {
     "name": "stdout",
     "output_type": "stream",
     "text": [
      "A = 12.5664\n"
     ]
    }
   ],
   "source": [
    "# Exercício 1.3 - Área do círculo\n",
    "# Entrada: contém um valor de ponto flutuante(float), no caso, a variável raio.\n",
    "# Saída: apresente a mensagem \"A = \" seguido pelo valor da variável área, com 4 casas após o ponto decimal.\n",
    "# area = pi x raio² \n",
    "# pi = 3.14159\n",
    "\n",
    "def area_circulo():\n",
    "    pi = 3.14159\n",
    "    raio = float(input('Informe o valor do raio: '))\n",
    "    area = pi * (raio ** 2)\n",
    "    return area\n",
    "\n",
    "\n",
    "print(f'A = {area_circulo():.4f}')"
   ]
  },
  {
   "cell_type": "code",
   "execution_count": 13,
   "metadata": {},
   "outputs": [
    {
     "name": "stdout",
     "output_type": "stream",
     "text": [
      "SOMA = 40\n"
     ]
    }
   ],
   "source": [
    "# Exercício 1.4 - Soma Simples\n",
    "# Entrada: o arquivo de entrada contém 2 valores inteiros\n",
    "# Saída: imprima a mensagem \"SOMA = \" com todas as letras maiúsculas, com um espaço em branco antes e depois da igualdade, seguido \n",
    "# pelo valor correspondente à soma de A e B.\n",
    "\n",
    "def soma():\n",
    "    a = int(input(\"Digite o primeiro valor: \"))\n",
    "    b = int(input(\"Digite o segundo valor: \"))\n",
    "    soma = a + b\n",
    "    return soma\n",
    "\n",
    "\n",
    "print(f'SOMA = {soma()}')"
   ]
  },
  {
   "cell_type": "code",
   "execution_count": 15,
   "metadata": {},
   "outputs": [
    {
     "name": "stdout",
     "output_type": "stream",
     "text": [
      "PROD = 27\n"
     ]
    }
   ],
   "source": [
    "# Exercício 1.5 - Produto Simples\n",
    "# Entrada: o arquivo de entrada contém 2 valores inteiros\n",
    "# Saída: imprima a mensagem \"PROD = \" e a variável PROD, com um espaço em branco antes e depois da igualdade, seguido \n",
    "# pelo valor correspondente a multiplicação de A * B.\n",
    "\n",
    "def produto():\n",
    "    a = int(input(\"Digite o primeiro valor: \"))\n",
    "    b = int(input(\"Digite o segundo valor: \"))\n",
    "    produto = a * b\n",
    "    return produto\n",
    "\n",
    "\n",
    "print(f'PROD = {produto()}')"
   ]
  }
 ],
 "metadata": {
  "kernelspec": {
   "display_name": "Python 3",
   "language": "python",
   "name": "python3"
  },
  "language_info": {
   "codemirror_mode": {
    "name": "ipython",
    "version": 3
   },
   "file_extension": ".py",
   "mimetype": "text/x-python",
   "name": "python",
   "nbconvert_exporter": "python",
   "pygments_lexer": "ipython3",
   "version": "3.13.0"
  }
 },
 "nbformat": 4,
 "nbformat_minor": 2
}
