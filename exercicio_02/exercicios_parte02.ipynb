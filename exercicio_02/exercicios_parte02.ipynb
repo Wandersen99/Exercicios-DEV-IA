{
 "cells": [
  {
   "cell_type": "code",
   "execution_count": null,
   "metadata": {},
   "outputs": [
    {
     "name": "stdout",
     "output_type": "stream",
     "text": [
      "DIFERENCA = -26\n"
     ]
    }
   ],
   "source": [
    "#Exercício 2.1 - Diferença\n",
    "#Calcule e mostre a diferença do produto de A e B pelo produto de C e D, segundo a fórmula: DIFERENCA = (A * B - C * D)\n",
    "#Entrada: O arquivo de entrada possui 4 valores inteiros;\n",
    "#Saída: Imprima a mensagem \"DIFERENCA = \", com todas as letras maiusculas.\n",
    "\n",
    "def calcular_diferenca():\n",
    "    \n",
    "    lista = [int(input()) for i in range(4)]\n",
    "    a,b,c,d = lista\n",
    "\n",
    "    return (a*b) - (c*d)\n",
    "\n",
    "\n",
    "print(f'DIFERENCA = {calcular_diferenca()}')"
   ]
  },
  {
   "cell_type": "code",
   "execution_count": null,
   "metadata": {},
   "outputs": [
    {
     "name": "stdout",
     "output_type": "stream",
     "text": [
      "NUMBER = 1\n",
      "SALARY = U$ 4100.00\n"
     ]
    }
   ],
   "source": [
    "#Exercício 2.2 - Salário \n",
    "#Entrada: O arquivo de entrada possui 2 números inteiros e 1 número com 2 casas decimais, representando o número, quantidade de horas\n",
    "#trabalhadas e o valor que o funcionário recebe por hora trabalhada;\n",
    "#Saída: Imprima o número e o salário do funcionário. No caso do salário, também deve haver um espaço em branco após o $\n",
    "\n",
    "def calcular_salario():\n",
    "    numero_funcionario = int(input())\n",
    "    quantidade_horas_trabalhadas = int(input())\n",
    "    valor_pago_hora = float(input())\n",
    "\n",
    "    salario = quantidade_horas_trabalhadas * valor_pago_hora\n",
    "\n",
    "    return numero_funcionario, salario\n",
    "\n",
    "\n",
    "numero, salario = calcular_salario()\n",
    "print(f'NUMBER = {numero}\\nSALARY = U$ {salario:.2f}')"
   ]
  },
  {
   "cell_type": "code",
   "execution_count": 17,
   "metadata": {},
   "outputs": [
    {
     "name": "stdout",
     "output_type": "stream",
     "text": [
      "TOTAL = R$ 1884.58\n"
     ]
    }
   ],
   "source": [
    "#Exercício 2.3 - Salário com Bônus\n",
    "#Entrada: O arquivo de entrada contém 1 texto e 2 valores de dupla precisão com 2 casas decimais, representando o salário fixo do \n",
    "# vendedor e o montante total das vendas efetuadas por este vendedor, respectivamente.\n",
    "#Saída: Imprima o total que o funcionário deverá receber.\n",
    "\n",
    "def calcular_salario_bonus():\n",
    "    nome_funcionario = input()\n",
    "    salario_fixo = float(input())\n",
    "    valor_vendas_efetuadas = float(input())\n",
    "    porcentagem_comissao = 0.15\n",
    "\n",
    "    salario_total = salario_fixo + (valor_vendas_efetuadas * porcentagem_comissao)\n",
    "\n",
    "    return salario_total\n",
    "\n",
    "\n",
    "print(f'TOTAL = R$ {calcular_salario_bonus():.2f}')"
   ]
  },
  {
   "cell_type": "code",
   "execution_count": 30,
   "metadata": {},
   "outputs": [
    {
     "name": "stdout",
     "output_type": "stream",
     "text": [
      "VALOR A PAGAR: R$ 30.20\n"
     ]
    }
   ],
   "source": [
    "# Exercício 2.4 - Cálculo Simples\n",
    "# Entrada:  O arquivo de entrada contém duas linhas de dados. Em cada linha haverá 3 valores, respectivamente dois inteiros e um valor\n",
    "# com 2 casas decimais\n",
    "# Saída: Espaço após os dois pontos e um espaço após o \"R$\". O valor deverá ser apresentado com 2 casas após o ponto.\n",
    "\n",
    "def calculo_simples():\n",
    "    \n",
    "    entrada = [input().split() for i in range(2)]\n",
    "    \n",
    "    codigo1, numero_pecas1, valor_unitario1 = map(float, entrada[0])\n",
    "    codigo2, numero_pecas2, valor_unitario2 = map(float, entrada[1])\n",
    "    \n",
    "    total_a_pagar = (numero_pecas1 * valor_unitario1) + (numero_pecas2 * valor_unitario2)\n",
    "    \n",
    "    return total_a_pagar\n",
    "\n",
    "\n",
    "print(f'VALOR A PAGAR: R$ {calculo_simples():.2f}')"
   ]
  },
  {
   "cell_type": "markdown",
   "metadata": {},
   "source": [
    "#### Exercício 2.5 - Distância entre dois pontos\n",
    "\n",
    "Fórmula: $\\sqrt{(x2 - x1)^2 + (y2 - y1)^2}$\n",
    "\n",
    "Entrada: O arquivo de entrada contém 2 linhas de dados. A primeira linha contém dois valores de ponto flutuante: x1 y1, e a segunda linha\n",
    "contém dois valores de ponto flutuante: x2 y2\n",
    "\n",
    "Saída: Calcule e imprima o valor da distância segundo a fórmula fornecida, considerando 4 casas decimais."
   ]
  },
  {
   "cell_type": "code",
   "execution_count": 29,
   "metadata": {},
   "outputs": [
    {
     "name": "stdout",
     "output_type": "stream",
     "text": [
      "16.1484\n"
     ]
    }
   ],
   "source": [
    "from cmath import sqrt as raiz\n",
    "\n",
    "def distancia_entre_dois_pontos():\n",
    "    \n",
    "    pontos = [input().split() for i in range(2)]\n",
    "\n",
    "    try:\n",
    "        x1, y1 = map(float, pontos[0])\n",
    "        x2, y2 = map(float, pontos[1])\n",
    "    except ValueError:\n",
    "        print(f'Valor(es) digitado(s) incorretamente. Tente novamente!\\n,{pontos}')\n",
    "        return None\n",
    "    \n",
    "    distancia =  raiz( (x2 - x1)**2 + (y2 - y1)**2 ).real\n",
    "\n",
    "    return distancia\n",
    "\n",
    "\n",
    "print(f'{distancia_entre_dois_pontos():.4f}')"
   ]
  }
 ],
 "metadata": {
  "kernelspec": {
   "display_name": "Python 3",
   "language": "python",
   "name": "python3"
  },
  "language_info": {
   "codemirror_mode": {
    "name": "ipython",
    "version": 3
   },
   "file_extension": ".py",
   "mimetype": "text/x-python",
   "name": "python",
   "nbconvert_exporter": "python",
   "pygments_lexer": "ipython3",
   "version": "3.13.0"
  }
 },
 "nbformat": 4,
 "nbformat_minor": 2
}
