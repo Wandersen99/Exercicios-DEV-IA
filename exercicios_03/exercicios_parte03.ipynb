{
 "cells": [
  {
   "cell_type": "markdown",
   "metadata": {},
   "source": [
    "### Exercício 3.1 - Intervalo\n",
    "\n",
    "Você deve fazer um programa que leia um valor qualquer e apresente uma mensagem dizendo em qual dos seguintes intervalos [0,25],(25,50],(50,75] ou (75,100] este valor se encontra. Obviamente, se o valor não estiver em nenhum destes intervalos, deverá ser impressa a mensagem \"Fora de intervalo\".\n",
    "\n",
    "Entrada: O arquivo de entrada contém um número com ponto flutuante qualquer.\n",
    "\n",
    "Saída: A saída deve ser uma mensagem, conforme o exemplo: Intervalo (25,50]"
   ]
  },
  {
   "cell_type": "code",
   "execution_count": 11,
   "metadata": {},
   "outputs": [
    {
     "name": "stdout",
     "output_type": "stream",
     "text": [
      "Fora de intervalo\n"
     ]
    }
   ],
   "source": [
    "# Exercício 3.1 - Intervalo\n",
    "\n",
    "def definir_intervalo(valor):\n",
    "\n",
    "    if 0 <= valor <= 25:\n",
    "        return 'Intervalo [0, 25]'\n",
    "    elif 25 < valor <= 50:\n",
    "        return 'Intervalo (25, 50]'\n",
    "    elif 50 < valor <= 75:\n",
    "        return 'Intervalo (50, 75]'\n",
    "    elif 75 < valor <= 100:\n",
    "        return 'Intervalo (75, 100]'\n",
    "    else:\n",
    "        return 'Fora de intervalo'\n",
    "\n",
    "\n",
    "valor = float(input('Digite um valor: '))\n",
    "print(definir_intervalo(valor))"
   ]
  },
  {
   "cell_type": "markdown",
   "metadata": {},
   "source": [
    "## Exercício 3.2 - Lanche\n",
    "\n",
    "Com base na tabela abaixo, escreva um programa que leia o código de um item e a quantidade deste item. A seguir, calcule e mostre o valor da conta a pagar.\n",
    "\n",
    "\n",
    "![Tabela](cardapio.png)\n",
    "\n",
    "Entrada: O arquivo de entrada contém dois valores inteiros correspondentes ao código e à quantidade de um item conforme tabela acima.\n",
    "\n",
    "Saída: O arquivo de saída deve conter a mensagem \"Total: R$ \" seguido pelo valor a ser pago, com 2 casas após o ponto decimal.\n"
   ]
  },
  {
   "cell_type": "code",
   "execution_count": 92,
   "metadata": {},
   "outputs": [
    {
     "name": "stdout",
     "output_type": "stream",
     "text": [
      "Total: R$ 10.00\n"
     ]
    }
   ],
   "source": [
    "# Exercício 3.2 - Lanche\n",
    "\n",
    "def calcular_total(codigo, quantidade):\n",
    "\n",
    "    precos = {\n",
    "        1: 4.00,\n",
    "        2: 4.50,\n",
    "        3: 5.00,\n",
    "        4: 2.00,\n",
    "        5: 1.50\n",
    "        }\n",
    "    \n",
    "    if codigo in precos:\n",
    "        total = precos[codigo] * quantidade\n",
    "        return f'Total: R$ {total:.2f}'\n",
    "    else:\n",
    "        return f'Código não encontrado. Tente novamente!'\n",
    "    \n",
    "\n",
    "codigo, quantidade = map(int,input().split())\n",
    "print(calcular_total(codigo, quantidade))"
   ]
  },
  {
   "cell_type": "markdown",
   "metadata": {},
   "source": [
    "## Exercício 3.3 - Aumento de Salário\n",
    "\n",
    "A empresa ABC resolveu conceder um aumento de salário a seus funcionários de acordo com a tabela abaixo:\n",
    "\n",
    "![Reajuste](reajuste.png)\n",
    "\n",
    "Leia o salário do funcionário e calcule e mostre o novo salário, bem como o valor de reajuste ganho e o índice reajustado, em percentual.\n",
    "\n",
    "Entrada: A entrada contém apenas um valor de ponto flutuante, com duas casas decimais.\n",
    "\n",
    "Saída: Imprima 3 linhas na saída: O novo salário, o valor ganho de reajuste(ambos devem ser apresentados com 2 casas decimais) e o percentual de reajuste ganho."
   ]
  },
  {
   "cell_type": "code",
   "execution_count": 3,
   "metadata": {},
   "outputs": [
    {
     "name": "stdout",
     "output_type": "stream",
     "text": [
      "Novo salario: 1100.00\n",
      "Reajuste ganho: 100.00\n",
      "Em percentual: 10 %\n"
     ]
    }
   ],
   "source": [
    "# Exercício 3.3 - Aumento de Salário\n",
    "\n",
    "def calcular_aumento(salario, percentual_reajuste):\n",
    "    reajuste = salario * percentual_reajuste\n",
    "    salario = salario + reajuste\n",
    "    return salario, reajuste\n",
    "\n",
    "\n",
    "def valor_reajuste(salario):\n",
    "    if 0 <= salario <= 400:\n",
    "        percentual_reajuste = 0.15\n",
    "        return percentual_reajuste\n",
    "    \n",
    "    elif 400 < salario <= 800:\n",
    "        percentual_reajuste = 0.12\n",
    "        return percentual_reajuste\n",
    "    \n",
    "    elif 800 < salario <= 1200:\n",
    "        percentual_reajuste = 0.10\n",
    "        return percentual_reajuste\n",
    "    \n",
    "    elif 1200 < salario <= 2000:\n",
    "        percentual_reajuste = 0.07\n",
    "        return percentual_reajuste\n",
    "    \n",
    "    elif salario > 2000:\n",
    "        percentual_reajuste = 0.04\n",
    "        return percentual_reajuste\n",
    "\n",
    "\n",
    "def salario_valido(salario):\n",
    "\n",
    "    if salario >= 0:\n",
    "        percentual_reajuste = valor_reajuste(salario)\n",
    "        novo_salario, reajuste = calcular_aumento(salario, percentual_reajuste)\n",
    "        return f'Novo salario: {novo_salario:.2f}\\nReajuste ganho: {reajuste:.2f}\\nEm percentual: {(percentual_reajuste * 100):.0f} %'\n",
    "    \n",
    "    else:\n",
    "        return f\"Valor do salário inserido é menor do que 0. Tente novamente!\"\n",
    "\n",
    "\n",
    "salario = float(input(\"Digite o valor do salário: \"))\n",
    "print(salario_valido(salario))"
   ]
  },
  {
   "cell_type": "markdown",
   "metadata": {},
   "source": [
    "## Exercício 3.4 - Teste de seleção 1\n",
    "\n",
    "Leia 4 valores inteiros, A, B, C e D. A seguir, se B for maior do que C e se D for maior do que A, e a soma de C com D for maior que a soma de A e B e se C e D, ambos, forem positivos e se a variável A for par, escreva a mensagem \"Valores aceitos\". Senão escreva \"Valores não aceitos\". \n",
    "\n",
    "Entrada: Quatro números inteiros A, B, C e D.\n",
    "\n",
    "Saída: Mostre a respectiva mensagem após a validação dos valores."
   ]
  },
  {
   "cell_type": "code",
   "execution_count": 4,
   "metadata": {},
   "outputs": [
    {
     "name": "stdout",
     "output_type": "stream",
     "text": [
      "Valores aceitos\n"
     ]
    }
   ],
   "source": [
    "# Exercício 3.4 - Teste de seleção 1\n",
    "\n",
    "def teste_selecao():\n",
    "    A,B,C,D = map(int,input().split())\n",
    "    \n",
    "    if (B > C) and (D > A) and ((C + D) > (A + B)) and (C >= 0) and (D >= 0) and (A % 2 == 0):\n",
    "        return f\"Valores aceitos\"\n",
    "    else:\n",
    "        return f\"Valores nao aceitos\"\n",
    "    \n",
    "print(teste_selecao())"
   ]
  },
  {
   "cell_type": "markdown",
   "metadata": {},
   "source": [
    "## Exercício 3.5 - Média 3\n",
    "\n",
    "Leia quatro números(N1, N2, N3, N4), cada um deles com uma casa decimal, correspondente às quatros notas de um aluno. Calcule a média com pesos 2, 3, 4 e 1, respectivamente, para cada uma dessas notas e mostre esta média acompanhada pela mensagem \"Media: \". Se esta média for maior ou igual a 7.0, imprima a mensagem \"Aluno aprovado.\".Se a média calculada for inferior a 5.0, imprima a mensagem \"Aluno reprovado.\". Se a média calculada for um valor entre 5.0 e 6.9, inclusive estas, o programa deve imprimir a mensagem \"Aluno em exame.\".\n",
    "\n",
    "No caso do aluno estar em exame, leia um valor correspondente à nota do exame obtida pelo aluno. Imprima então a mensagem \"Nota do exame: \"acompanhada pela nota digitada. Recalcule a média (some a pontuação do exame com a média anteriormente calculada e divida por 2). e imprima a mensagem \"Aluno aprovado.\"(caso a média final seja 5.0 ou mais) ou \"Aluno reprovado.\", (caso a média tenha ficado 4.9 ou menos). Para estes dois casos(aprovado ou reprovado após ter pego exame) apresente na última linha uma mensagem \"Media final: \"seguido da média final para esse aluno.\n",
    "\n",
    "Entrada: A entrada contém quatro números de ponto flutuante correspondente às notas dos alunos.\n",
    "\n",
    "Saída: Todas as respostas devem ser apresentadas com uma casa decimal. As mensagens devem ser impressas conforme a descrição do problema. Não esqueça de imprimir o enter após o final de cada linha, caso contrário obterá \"Presentation Error\"."
   ]
  },
  {
   "cell_type": "code",
   "execution_count": 86,
   "metadata": {},
   "outputs": [
    {
     "name": "stdout",
     "output_type": "stream",
     "text": [
      "Media: 5.4\n",
      "Aluno em exame.\n",
      "Nota do exame: 6.4\n",
      "Aluno aprovado.\n",
      "Media final: 5.9\n"
     ]
    }
   ],
   "source": [
    "# Exercício 3.5 - Média 3\n",
    "\n",
    "def recalcular_media(nota_exame, media):\n",
    "    return (nota_exame + media) / 2\n",
    "\n",
    "\n",
    "def calcular_media(N1, N2, N3, N4):\n",
    "    pesos = [2,3,4,1]\n",
    "    notas = [N1, N2, N3, N4]\n",
    "    media = sum(n * p for n, p in zip(notas, pesos)) / sum(pesos)\n",
    "    return round(media,1)\n",
    "\n",
    "\n",
    "def verificar_media(media):\n",
    "    if media >= 7.0:\n",
    "        return f'Media: {media:.1f}\\nAluno aprovado.'\n",
    "    \n",
    "    elif media < 5:\n",
    "        return f'Media: {media:.1f}\\nAluno reprovado.'\n",
    "    \n",
    "    else:\n",
    "        print(f'Media: {media:.1f}\\nAluno em exame.')\n",
    "        nota_exame = float(input('Nota do exame: '))\n",
    "        nota_exame = round(nota_exame, 1)\n",
    "        print(f\"Nota do exame: {nota_exame:.1f}\")\n",
    "        media_final = recalcular_media(nota_exame, media)\n",
    "        media_final = round(media_final,1)\n",
    "\n",
    "        if media_final >= 5:\n",
    "            return f\"Aluno aprovado.\\nMedia final: {media_final:.1f}\"\n",
    "        else:\n",
    "            return f'Aluno reprovado.\\nMedia final: {media_final:.1f}'\n",
    "    \n",
    "\n",
    "# Entrada das notas\n",
    "N1, N2, N3, N4 = map(float, input().split())\n",
    "\n",
    "# Calcular a média\n",
    "media = calcular_media(N1, N2, N3, N4)\n",
    "\n",
    "# Verificar situação do aluno\n",
    "situacao_aluno = verificar_media(media)\n",
    "\n",
    "# Resultado final\n",
    "print(situacao_aluno)"
   ]
  }
 ],
 "metadata": {
  "kernelspec": {
   "display_name": "Python 3",
   "language": "python",
   "name": "python3"
  },
  "language_info": {
   "codemirror_mode": {
    "name": "ipython",
    "version": 3
   },
   "file_extension": ".py",
   "mimetype": "text/x-python",
   "name": "python",
   "nbconvert_exporter": "python",
   "pygments_lexer": "ipython3",
   "version": "3.13.0"
  }
 },
 "nbformat": 4,
 "nbformat_minor": 2
}
